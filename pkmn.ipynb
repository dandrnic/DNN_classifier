{
  "cells": [
    {
      "cell_type": "markdown",
      "metadata": {
        "id": "view-in-github",
        "colab_type": "text"
      },
      "source": [
        "<a href=\"https://colab.research.google.com/github/dandrnic/git_test/blob/main/pkmn.ipynb\" target=\"_parent\"><img src=\"https://colab.research.google.com/assets/colab-badge.svg\" alt=\"Open In Colab\"/></a>"
      ]
    },
    {
      "cell_type": "code",
      "execution_count": null,
      "metadata": {
        "id": "yAvxtq-j8a6V"
      },
      "outputs": [],
      "source": [
        "import matplotlib.pyplot as plt\n",
        "import numpy as np\n",
        "import os\n",
        "from PIL import Image\n",
        "from PIL import ImageFont\n",
        "from PIL import ImageDraw\n",
        "import pathlib\n",
        "import sys\n",
        "\n",
        "import tensorflow as tf\n",
        "os.environ['TF_CPP_MIN_LOG_LEVEL'] = '3' #silence some of the tf warnings\n",
        "\n",
        "from tensorflow import keras\n",
        "from tensorflow.keras import layers\n",
        "from tensorflow.keras.models import Sequential\n"
      ]
    },
    {
      "cell_type": "code",
      "execution_count": null,
      "metadata": {
        "id": "eogkvHuQc6lF"
      },
      "outputs": [],
      "source": [
        "\n",
        "#Download and explore the dataset\n",
        "\n",
        "def get_local_data(file_path, val_split=0.2, batch_size = 32, height = 180, width = 180):\n",
        "\t#returns training and validation datasets from a local dataset\n",
        "\n",
        "\tdata_dir = pathlib.Path(file_path)\n",
        "\tprint('Number of JPEG in dataset:',len(list(data_dir.glob('*/*.jpg')))) #print the total amount of images\n",
        "\ttrain_ds = tf.keras.preprocessing.image_dataset_from_directory(\n",
        "\t\tdata_dir,\n",
        "\t\tvalidation_split = val_split, #100-val_split% used for training, val_split% for validation\n",
        "\t\tsubset=\"training\",\n",
        "\t\tseed=710,\n",
        "\t\timage_size=(height, width),\n",
        "\t\tbatch_size=batch_size)\n",
        "\n",
        "\tval_ds = tf.keras.preprocessing.image_dataset_from_directory(\n",
        "\t\tdata_dir,\n",
        "\t\tvalidation_split = val_split,\n",
        "\t\tsubset=\"validation\",\n",
        "\t\tseed=710,\n",
        "\t\timage_size=(height, width),\n",
        "\t\tbatch_size=batch_size)\n",
        "\n",
        "\tclass_names = train_ds.class_names\n",
        "\tprint('Pokemon in set:', class_names[:3], ' ... ', class_names[-3:])\n",
        "\n",
        "\treturn train_ds, val_ds"
      ]
    },
    {
      "cell_type": "code",
      "execution_count": null,
      "metadata": {
        "id": "ImNyQ6WydB2N"
      },
      "outputs": [],
      "source": [
        "def configure_ds(train_ds, val_ds):\n",
        "\tAUTOTUNE = tf.data.experimental.AUTOTUNE\n",
        "\ttrain_ds = train_ds.cache().shuffle(1000).prefetch(buffer_size=AUTOTUNE)\n",
        "\tval_ds = val_ds.cache().prefetch(buffer_size=AUTOTUNE)\n",
        "\treturn train_ds, val_ds\n"
      ]
    },
    {
      "cell_type": "code",
      "execution_count": null,
      "metadata": {
        "id": "HviJc2z9dFSz"
      },
      "outputs": [],
      "source": [
        "\n",
        "def create_model(num_classes = 5, height = 180, width = 180):\n",
        "\n",
        "\t#add data augmentation for more accurate results\n",
        "\tdata_augmentation = keras.Sequential(\n",
        "\t\t[layers.experimental.preprocessing.RandomFlip(\"horizontal\",\n",
        "\t\t    input_shape=(height,width,3)),\n",
        "\t\t\tlayers.experimental.preprocessing.RandomRotation(0.1),\n",
        "\t\t\tlayers.experimental.preprocessing.RandomZoom(0.1)]\n",
        "\t\t)\n",
        "\n",
        "\tmodel = Sequential([\n",
        "\n",
        "\t\tdata_augmentation,\n",
        "\t\t#normalize model with rescaling\n",
        "\t\tlayers.experimental.preprocessing.Rescaling(1./255, input_shape=(height, width, 3)),\n",
        "\n",
        "\t\tlayers.Conv2D(16, 3, padding='same', activation='relu'),\n",
        "\t\tlayers.MaxPooling2D(),\n",
        "\t\tlayers.Conv2D(32, 3, padding='same', activation='relu'),\n",
        "\t\tlayers.MaxPooling2D(),\n",
        "\t\t#layers.Conv2D(64, 3, padding='same', activation='relu'), #uncomment for entire data set\n",
        "\t\t#layers.MaxPooling2D(), #uncomment for entire data set\n",
        "\t\tlayers.Dropout(0.15),\n",
        "\t\tlayers.Flatten(),\n",
        "\t\tlayers.Dense(128, activation='relu'), #uncomment for entire data set\n",
        "\t\tlayers.Dense(num_classes)\n",
        "\t])\n",
        "\n",
        "\t#compile the model\n",
        "\tmodel.compile(optimizer='adam',\n",
        "\t\tloss=tf.keras.losses.SparseCategoricalCrossentropy(from_logits=True),\n",
        "\t\tmetrics=['accuracy'])\n",
        "\n",
        "\treturn model"
      ]
    },
    {
      "cell_type": "code",
      "execution_count": null,
      "metadata": {
        "id": "EC7nC65odWfT"
      },
      "outputs": [],
      "source": [
        "def train_model(model, train_ds, val_ds, epochs= 12):\n",
        "\thistory = model.fit(\n",
        "\t\ttrain_ds,\n",
        "\t\tvalidation_data=val_ds,\n",
        "\t\tepochs=epochs\n",
        "\t\t)\n",
        "\treturn history, epochs\n"
      ]
    },
    {
      "cell_type": "code",
      "execution_count": null,
      "metadata": {
        "id": "K8h5ZPEidZH6"
      },
      "outputs": [],
      "source": [
        "def make_prediction(model, picture_path, height = 180, width = 180):\n",
        "\n",
        "\timg = keras.preprocessing.image.load_img(\n",
        "    \tpicture_path, target_size=(height, width)\n",
        "\t)\n",
        "\timg_array = keras.preprocessing.image.img_to_array(img)\n",
        "\timg_array = tf.expand_dims(img_array, 0) # Create a batch\n",
        "\n",
        "\tpredictions = model.predict(img_array)\n",
        "\tscore = tf.nn.softmax(predictions[0])\n",
        "\n",
        "\tresult_string = \"Likely {} with {:.2f}% confidence.\".format(class_names[np.argmax(score)], 100 * np.max(score))\n",
        "\t#written by Shaun Miller\n",
        "\timg_to_print = Image.open(picture_path)\n",
        "\tdraw = ImageDraw.Draw(img_to_print)\n",
        "\tfont = ImageFont.truetype(\"arial.ttf\", 100)\n",
        "\tdraw.text((0, 0),result_string,(255,255,255),font=font)\n",
        "\timg_to_print.show()\n"
      ]
    },
    {
      "cell_type": "code",
      "execution_count": null,
      "metadata": {
        "colab": {
          "base_uri": "https://localhost:8080/"
        },
        "id": "BvpkYRNifGX-",
        "outputId": "6f5f6c43-9489-4ee9-8117-bf6bf4b4a8e3"
      },
      "outputs": [
        {
          "output_type": "stream",
          "name": "stdout",
          "text": [
            "arial.ttf                     joshua-dunlop-mewtwo.jpg    preview_mewtwo.png\n",
            "\u001b[0m\u001b[01;34mdataset\u001b[0m/                      joshua-dunlop-pikachu.jpg   preview_pikachu.png\n",
            "\u001b[01;34mdataset_popular\u001b[0m/              joshua-dunlop-squirtle.jpg  preview.png\n",
            "joshua-dunlop-bulbasaur.jpg   main.py                     README.md\n",
            "joshua-dunlop-charmander.jpg  neildluffy_Pikachu.jpg      requirements.txt\n"
          ]
        }
      ],
      "source": [
        "ls"
      ]
    },
    {
      "cell_type": "code",
      "execution_count": null,
      "metadata": {
        "colab": {
          "base_uri": "https://localhost:8080/",
          "height": 1000
        },
        "id": "tl-dPf62db44",
        "outputId": "b8d301fc-965b-4b19-c54f-d32057c485f0"
      },
      "outputs": [
        {
          "output_type": "stream",
          "name": "stdout",
          "text": [
            "Number of JPEG in dataset: 27\n",
            "Found 65 files belonging to 5 classes.\n",
            "Using 52 files for training.\n",
            "Found 65 files belonging to 5 classes.\n",
            "Using 13 files for validation.\n",
            "Pokemon in set: ['Bulbasaur', 'Charmander', 'Mewtwo']  ...  ['Mewtwo', 'Pikachu', 'Squirtle']\n",
            "Model: \"sequential_3\"\n",
            "_________________________________________________________________\n",
            " Layer (type)                Output Shape              Param #   \n",
            "=================================================================\n",
            " sequential_2 (Sequential)   (None, 180, 180, 3)       0         \n",
            "                                                                 \n",
            " rescaling_1 (Rescaling)     (None, 180, 180, 3)       0         \n",
            "                                                                 \n",
            " conv2d_2 (Conv2D)           (None, 180, 180, 16)      448       \n",
            "                                                                 \n",
            " max_pooling2d_2 (MaxPooling  (None, 90, 90, 16)       0         \n",
            " 2D)                                                             \n",
            "                                                                 \n",
            " conv2d_3 (Conv2D)           (None, 90, 90, 32)        4640      \n",
            "                                                                 \n",
            " max_pooling2d_3 (MaxPooling  (None, 45, 45, 32)       0         \n",
            " 2D)                                                             \n",
            "                                                                 \n",
            " dropout_1 (Dropout)         (None, 45, 45, 32)        0         \n",
            "                                                                 \n",
            " flatten_1 (Flatten)         (None, 64800)             0         \n",
            "                                                                 \n",
            " dense_2 (Dense)             (None, 128)               8294528   \n",
            "                                                                 \n",
            " dense_3 (Dense)             (None, 5)                 645       \n",
            "                                                                 \n",
            "=================================================================\n",
            "Total params: 8,300,261\n",
            "Trainable params: 8,300,261\n",
            "Non-trainable params: 0\n",
            "_________________________________________________________________\n",
            "None\n",
            "Epoch 1/12\n",
            "2/2 [==============================] - 6s 2s/step - loss: 8.8029 - accuracy: 0.2115 - val_loss: 14.4749 - val_accuracy: 0.0000e+00\n",
            "Epoch 2/12\n",
            "2/2 [==============================] - 2s 752ms/step - loss: 8.0346 - accuracy: 0.3269 - val_loss: 5.9233 - val_accuracy: 0.2308\n",
            "Epoch 3/12\n",
            "2/2 [==============================] - 2s 714ms/step - loss: 4.8928 - accuracy: 0.1346 - val_loss: 2.5079 - val_accuracy: 0.3077\n",
            "Epoch 4/12\n",
            "2/2 [==============================] - 2s 1s/step - loss: 2.4555 - accuracy: 0.1731 - val_loss: 1.9829 - val_accuracy: 0.3077\n",
            "Epoch 5/12\n",
            "2/2 [==============================] - 2s 1s/step - loss: 1.5118 - accuracy: 0.5000 - val_loss: 2.2486 - val_accuracy: 0.2308\n",
            "Epoch 6/12\n",
            "2/2 [==============================] - 2s 1s/step - loss: 1.3884 - accuracy: 0.4423 - val_loss: 2.5167 - val_accuracy: 0.2308\n",
            "Epoch 7/12\n",
            "2/2 [==============================] - 3s 2s/step - loss: 1.3466 - accuracy: 0.5962 - val_loss: 2.3037 - val_accuracy: 0.2308\n",
            "Epoch 8/12\n",
            "2/2 [==============================] - 2s 1s/step - loss: 1.2327 - accuracy: 0.5962 - val_loss: 2.1232 - val_accuracy: 0.2308\n",
            "Epoch 9/12\n",
            "2/2 [==============================] - 2s 736ms/step - loss: 1.1399 - accuracy: 0.5769 - val_loss: 2.0491 - val_accuracy: 0.2308\n",
            "Epoch 10/12\n",
            "2/2 [==============================] - 2s 735ms/step - loss: 1.0834 - accuracy: 0.5769 - val_loss: 2.0808 - val_accuracy: 0.3077\n",
            "Epoch 11/12\n",
            "2/2 [==============================] - 2s 722ms/step - loss: 0.9761 - accuracy: 0.5962 - val_loss: 2.1644 - val_accuracy: 0.4615\n",
            "Epoch 12/12\n",
            "2/2 [==============================] - 2s 1s/step - loss: 0.9020 - accuracy: 0.6731 - val_loss: 2.1063 - val_accuracy: 0.4615\n"
          ]
        },
        {
          "output_type": "error",
          "ename": "FileNotFoundError",
          "evalue": "ignored",
          "traceback": [
            "\u001b[0;31m---------------------------------------------------------------------------\u001b[0m",
            "\u001b[0;31mFileNotFoundError\u001b[0m                         Traceback (most recent call last)",
            "\u001b[0;32m<ipython-input-17-8eb13e146d0b>\u001b[0m in \u001b[0;36m<module>\u001b[0;34m\u001b[0m\n\u001b[1;32m     12\u001b[0m \u001b[0;34m\u001b[0m\u001b[0m\n\u001b[1;32m     13\u001b[0m         \u001b[0;31m#Test the Model\u001b[0m\u001b[0;34m\u001b[0m\u001b[0;34m\u001b[0m\u001b[0;34m\u001b[0m\u001b[0m\n\u001b[0;32m---> 14\u001b[0;31m         \u001b[0;32mfor\u001b[0m \u001b[0mpicture_path\u001b[0m \u001b[0;32min\u001b[0m \u001b[0msys\u001b[0m\u001b[0;34m.\u001b[0m\u001b[0margv\u001b[0m\u001b[0;34m[\u001b[0m\u001b[0;36m1\u001b[0m\u001b[0;34m:\u001b[0m\u001b[0;34m]\u001b[0m\u001b[0;34m:\u001b[0m \u001b[0mmake_prediction\u001b[0m\u001b[0;34m(\u001b[0m\u001b[0mmodel\u001b[0m\u001b[0;34m,\u001b[0m \u001b[0mpicture_path\u001b[0m \u001b[0;34m=\u001b[0m \u001b[0mpicture_path\u001b[0m\u001b[0;34m)\u001b[0m\u001b[0;34m\u001b[0m\u001b[0;34m\u001b[0m\u001b[0m\n\u001b[0m",
            "\u001b[0;32m<ipython-input-6-9e15bf35a4f1>\u001b[0m in \u001b[0;36mmake_prediction\u001b[0;34m(model, picture_path, height, width)\u001b[0m\n\u001b[1;32m      2\u001b[0m \u001b[0;34m\u001b[0m\u001b[0m\n\u001b[1;32m      3\u001b[0m \timg = keras.preprocessing.image.load_img(\n\u001b[0;32m----> 4\u001b[0;31m         \u001b[0mpicture_path\u001b[0m\u001b[0;34m,\u001b[0m \u001b[0mtarget_size\u001b[0m\u001b[0;34m=\u001b[0m\u001b[0;34m(\u001b[0m\u001b[0mheight\u001b[0m\u001b[0;34m,\u001b[0m \u001b[0mwidth\u001b[0m\u001b[0;34m)\u001b[0m\u001b[0;34m\u001b[0m\u001b[0;34m\u001b[0m\u001b[0m\n\u001b[0m\u001b[1;32m      5\u001b[0m \t)\n\u001b[1;32m      6\u001b[0m         \u001b[0mimg_array\u001b[0m \u001b[0;34m=\u001b[0m \u001b[0mkeras\u001b[0m\u001b[0;34m.\u001b[0m\u001b[0mpreprocessing\u001b[0m\u001b[0;34m.\u001b[0m\u001b[0mimage\u001b[0m\u001b[0;34m.\u001b[0m\u001b[0mimg_to_array\u001b[0m\u001b[0;34m(\u001b[0m\u001b[0mimg\u001b[0m\u001b[0;34m)\u001b[0m\u001b[0;34m\u001b[0m\u001b[0;34m\u001b[0m\u001b[0m\n",
            "\u001b[0;32m/usr/local/lib/python3.7/dist-packages/keras/preprocessing/image.py\u001b[0m in \u001b[0;36mload_img\u001b[0;34m(path, grayscale, color_mode, target_size, interpolation)\u001b[0m\n\u001b[1;32m    312\u001b[0m   \"\"\"\n\u001b[1;32m    313\u001b[0m   return image.load_img(path, grayscale=grayscale, color_mode=color_mode,\n\u001b[0;32m--> 314\u001b[0;31m                         target_size=target_size, interpolation=interpolation)\n\u001b[0m\u001b[1;32m    315\u001b[0m \u001b[0;34m\u001b[0m\u001b[0m\n\u001b[1;32m    316\u001b[0m \u001b[0;34m\u001b[0m\u001b[0m\n",
            "\u001b[0;32m/usr/local/lib/python3.7/dist-packages/keras_preprocessing/image/utils.py\u001b[0m in \u001b[0;36mload_img\u001b[0;34m(path, grayscale, color_mode, target_size, interpolation)\u001b[0m\n\u001b[1;32m    111\u001b[0m         raise ImportError('Could not import PIL.Image. '\n\u001b[1;32m    112\u001b[0m                           'The use of `load_img` requires PIL.')\n\u001b[0;32m--> 113\u001b[0;31m     \u001b[0;32mwith\u001b[0m \u001b[0mopen\u001b[0m\u001b[0;34m(\u001b[0m\u001b[0mpath\u001b[0m\u001b[0;34m,\u001b[0m \u001b[0;34m'rb'\u001b[0m\u001b[0;34m)\u001b[0m \u001b[0;32mas\u001b[0m \u001b[0mf\u001b[0m\u001b[0;34m:\u001b[0m\u001b[0;34m\u001b[0m\u001b[0;34m\u001b[0m\u001b[0m\n\u001b[0m\u001b[1;32m    114\u001b[0m         \u001b[0mimg\u001b[0m \u001b[0;34m=\u001b[0m \u001b[0mpil_image\u001b[0m\u001b[0;34m.\u001b[0m\u001b[0mopen\u001b[0m\u001b[0;34m(\u001b[0m\u001b[0mio\u001b[0m\u001b[0;34m.\u001b[0m\u001b[0mBytesIO\u001b[0m\u001b[0;34m(\u001b[0m\u001b[0mf\u001b[0m\u001b[0;34m.\u001b[0m\u001b[0mread\u001b[0m\u001b[0;34m(\u001b[0m\u001b[0;34m)\u001b[0m\u001b[0;34m)\u001b[0m\u001b[0;34m)\u001b[0m\u001b[0;34m\u001b[0m\u001b[0;34m\u001b[0m\u001b[0m\n\u001b[1;32m    115\u001b[0m         \u001b[0;32mif\u001b[0m \u001b[0mcolor_mode\u001b[0m \u001b[0;34m==\u001b[0m \u001b[0;34m'grayscale'\u001b[0m\u001b[0;34m:\u001b[0m\u001b[0;34m\u001b[0m\u001b[0;34m\u001b[0m\u001b[0m\n",
            "\u001b[0;31mFileNotFoundError\u001b[0m: [Errno 2] No such file or directory: '-f'"
          ]
        }
      ],
      "source": [
        "if __name__ == \"__main__\":\n",
        "\n",
        "\t#Retreive dataset\n",
        "\ttrain_ds, val_ds = get_local_data('dataset_popular')\n",
        "\tclass_names = train_ds.class_names\n",
        "\n",
        "\t#Train the Model\n",
        "\ttrain_ds, val_ds = configure_ds(train_ds, val_ds)\n",
        "\tmodel = create_model()\n",
        "\tprint(model.summary())\n",
        "\thistory, epochs = train_model(model, train_ds, val_ds)\n",
        "\n",
        "\t#Test the Model\n",
        "\tfor picture_path in sys.argv[1:]: make_prediction(model, picture_path = picture_path)"
      ]
    },
    {
      "cell_type": "code",
      "source": [
        "import os\n",
        "\n",
        "cwd = os.getcwd()  # Get the current working directory (cwd)\n",
        "files = os.listdir(cwd)  # Get all the files in that directory\n",
        "print(\"Files in %r: %s\" % (cwd, files))"
      ],
      "metadata": {
        "colab": {
          "base_uri": "https://localhost:8080/"
        },
        "id": "Xa9FEErZWrSV",
        "outputId": "29334c37-4dc4-435b-8778-5e67a701c880"
      },
      "execution_count": null,
      "outputs": [
        {
          "output_type": "stream",
          "name": "stdout",
          "text": [
            "Files in '/content/drive/MyDrive/WhosThatPokemon-main': ['neildluffy_Pikachu.jpg', 'preview.png', 'arial.ttf', 'requirements.txt', 'joshua-dunlop-squirtle.jpg', 'joshua-dunlop-charmander.jpg', 'README.md', 'joshua-dunlop-pikachu.jpg', 'main.py', 'joshua-dunlop-bulbasaur.jpg', 'joshua-dunlop-mewtwo.jpg', '.DS_Store', '.ipynb_checkpoints', 'dataset_popular', 'dataset', 'preview_pikachu.png', 'preview_mewtwo.png']\n"
          ]
        }
      ]
    }
  ],
  "metadata": {
    "colab": {
      "provenance": [],
      "authorship_tag": "ABX9TyObg3CJltDI+STatT3e5lKN",
      "include_colab_link": true
    },
    "kernelspec": {
      "display_name": "Python 3",
      "name": "python3"
    },
    "language_info": {
      "name": "python"
    }
  },
  "nbformat": 4,
  "nbformat_minor": 0
}